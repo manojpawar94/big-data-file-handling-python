{
 "cells": [
  {
   "cell_type": "code",
   "execution_count": 1,
   "id": "5f4ea851",
   "metadata": {},
   "outputs": [],
   "source": [
    "from fastavro import writer, reader, parse_schema"
   ]
  },
  {
   "cell_type": "code",
   "execution_count": 2,
   "id": "e7dde104",
   "metadata": {},
   "outputs": [],
   "source": [
    "schema = {\n",
    "    'doc': 'A weather reading.',\n",
    "    'name': 'Weather',\n",
    "    'namespace': 'test',\n",
    "    'type': 'record',\n",
    "    'fields': [\n",
    "        {'name': 'station', 'type': 'string'},\n",
    "        {'name': 'time', 'type': 'long'},\n",
    "        {'name': 'temp', 'type': 'int'},\n",
    "    ],\n",
    "}"
   ]
  },
  {
   "cell_type": "code",
   "execution_count": 3,
   "id": "7b098458",
   "metadata": {},
   "outputs": [],
   "source": [
    "parsed_schema = parse_schema(schema)"
   ]
  },
  {
   "cell_type": "code",
   "execution_count": 4,
   "id": "079ee8e0",
   "metadata": {},
   "outputs": [
    {
     "data": {
      "text/plain": [
       "{'type': 'record',\n",
       " 'doc': 'A weather reading.',\n",
       " 'name': 'test.Weather',\n",
       " 'fields': [{'name': 'station', 'type': 'string'},\n",
       "  {'name': 'time', 'type': 'long'},\n",
       "  {'name': 'temp', 'type': 'int'}],\n",
       " '__fastavro_parsed': True,\n",
       " '__named_schemas': {'test.Weather': {'type': 'record',\n",
       "   'doc': 'A weather reading.',\n",
       "   'name': 'test.Weather',\n",
       "   'fields': [{'name': 'station', 'type': 'string'},\n",
       "    {'name': 'time', 'type': 'long'},\n",
       "    {'name': 'temp', 'type': 'int'}]}}}"
      ]
     },
     "execution_count": 4,
     "metadata": {},
     "output_type": "execute_result"
    }
   ],
   "source": [
    "parsed_schema"
   ]
  },
  {
   "cell_type": "code",
   "execution_count": 5,
   "id": "e790b504",
   "metadata": {},
   "outputs": [],
   "source": [
    "# 'records' can be an iterable (including generator)\n",
    "records = [\n",
    "    {u'station': u'011990-99999', u'temp': 0, u'time': 1433269388},\n",
    "    {u'station': u'011990-99999', u'temp': 22, u'time': 1433270389},\n",
    "    {u'station': u'011990-99999', u'temp': -11, u'time': 1433273379},\n",
    "    {u'station': u'012650-99999', u'temp': 111, u'time': 1433275478},\n",
    "]"
   ]
  },
  {
   "cell_type": "code",
   "execution_count": 6,
   "id": "2df7b44f",
   "metadata": {},
   "outputs": [],
   "source": [
    "# Writing\n",
    "with open('weather.avro', 'wb') as out:\n",
    "    writer(out, parsed_schema, records)"
   ]
  },
  {
   "cell_type": "code",
   "execution_count": 7,
   "id": "3bc4e289",
   "metadata": {},
   "outputs": [
    {
     "name": "stdout",
     "output_type": "stream",
     "text": [
      "{'station': '011990-99999', 'time': 1433269388, 'temp': 0}\n",
      "{'station': '011990-99999', 'time': 1433270389, 'temp': 22}\n",
      "{'station': '011990-99999', 'time': 1433273379, 'temp': -11}\n",
      "{'station': '012650-99999', 'time': 1433275478, 'temp': 111}\n"
     ]
    }
   ],
   "source": [
    "# Reading\n",
    "with open('weather.avro', 'rb') as fo:\n",
    "    for record in reader(fo):\n",
    "        print(record)"
   ]
  },
  {
   "cell_type": "code",
   "execution_count": null,
   "id": "bb03b024",
   "metadata": {},
   "outputs": [],
   "source": []
  }
 ],
 "metadata": {
  "kernelspec": {
   "display_name": "Python 3 (ipykernel)",
   "language": "python",
   "name": "python3"
  },
  "language_info": {
   "codemirror_mode": {
    "name": "ipython",
    "version": 3
   },
   "file_extension": ".py",
   "mimetype": "text/x-python",
   "name": "python",
   "nbconvert_exporter": "python",
   "pygments_lexer": "ipython3",
   "version": "3.9.7"
  }
 },
 "nbformat": 4,
 "nbformat_minor": 5
}
